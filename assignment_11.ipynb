{
 "cells": [
  {
   "cell_type": "code",
   "execution_count": null,
   "metadata": {},
   "outputs": [],
   "source": [
    "Q1 - 1. Create an assert statement that throws an AssertionError if the variable spam is a negative integer.\n",
    "\n",
    "ans -  assert(spam >= 10, 'The spam variable is less than 10.')"
   ]
  },
  {
   "cell_type": "code",
   "execution_count": null,
   "metadata": {},
   "outputs": [],
   "source": [
    "Q2 -  Create an assert statement that throws an AssertionError if the variables eggs and bacon\n",
    "       contain strings that are the same, even if their cases are different (for example, 'hello' and 'hello' are\n",
    "       considered the same, as are 'goodbye' and 'GOODbye').\n",
    "    \n",
    "ans- assert(eggs.lower() != bacon.lower(), 'The eggs and bacon variables are the same!') \n",
    "   or assert(eggs.upper() != bacon.upper(), 'The eggs and bacon variables are the same!')"
   ]
  },
  {
   "cell_type": "code",
   "execution_count": null,
   "metadata": {},
   "outputs": [],
   "source": [
    "Q3 - Create an assert statement that throws an AssertionError every time.\n",
    "\n",
    "ans - assert(False, 'This assertion always triggers.')"
   ]
  },
  {
   "cell_type": "code",
   "execution_count": null,
   "metadata": {},
   "outputs": [],
   "source": [
    "Q4 - What are the two lines that must be present in your software in order to call logging.debug()?\n",
    "\n",
    "ans - c To be able to call logging.debug(), you must have these two lines at the start of your program:\n",
    "       import logging\n",
    "       logging.basicConfig(level=logging.DEBUG, format=' %(asctime)s -%(levelname)s - %(message)s')"
   ]
  },
  {
   "cell_type": "code",
   "execution_count": null,
   "metadata": {},
   "outputs": [],
   "source": [
    "Q5 - What are the two lines that must be present in your software in order for it to log?\n",
    "Q5 - Is it possible for logging.debug() to log a message to a file called programLog.txt?\n",
    "\n",
    "ans - To be able to send logging messages to a file named programLog.txt \n",
    "      with logging.debug(), you must have these two lines at the start of your program:\n",
    "\n",
    "       import logging\n",
    "\n",
    "       logging.basicConfig(filename='programLog.txt', level=logging.DEBUG,format=' %(asctime)s - %(levelname)s -\n",
    "       %(message)s')\n",
    "                                                    "
   ]
  },
  {
   "cell_type": "code",
   "execution_count": null,
   "metadata": {},
   "outputs": [],
   "source": [
    "Q6 -  What are the five stages of logging?\n",
    "\n",
    "ans - DEBUG, INFO, WARNING, ERROR, and CRITICAL"
   ]
  },
  {
   "cell_type": "code",
   "execution_count": null,
   "metadata": {},
   "outputs": [],
   "source": [
    "Q7 - What line of code would you add to your software to disable all logging messages?\n",
    "\n",
    "ans - .logging.disable(logging.CRITICAL)"
   ]
  },
  {
   "cell_type": "code",
   "execution_count": null,
   "metadata": {},
   "outputs": [],
   "source": [
    "Q8 -  Why is it easier to use logging messages instead of print() to show the same message?\n",
    "\n",
    "ans - You can disable logging messages without removing the logging function calls. \n",
    "      You can selectively disable lower-level logging messages. You can create logging messages.\n",
    "      Logging messages provides a timestamp."
   ]
  },
  {
   "cell_type": "code",
   "execution_count": null,
   "metadata": {},
   "outputs": [],
   "source": [
    "Q9 - . What is the difference between the debugger's Step Over, Step In, and Step Out buttons?\n",
    "\n",
    "ans- The Step button will move the debugger into a function call.\n",
    "     The Over button will quickly execute the function call without stepping into it.\n",
    "     The Out button will quickly execute the rest of the code until it steps out of the function it currently is in."
   ]
  },
  {
   "cell_type": "code",
   "execution_count": null,
   "metadata": {},
   "outputs": [],
   "source": [
    "Q10 - When will the debugger stop after you press Continue?\n",
    "\n",
    "ans - .After you click Go, the debugger will stop when\n",
    "       it has reached the end of the program or a line with a breakpoint."
   ]
  },
  {
   "cell_type": "code",
   "execution_count": null,
   "metadata": {},
   "outputs": [],
   "source": [
    "Q11 - What is the concept of a breakpoint?\n",
    "\n",
    "ans- A breakpoint is a setting on a line of code that causes the debugger  \n",
    "     to pause when the program execution reaches the line."
   ]
  },
  {
   "cell_type": "code",
   "execution_count": null,
   "metadata": {},
   "outputs": [],
   "source": [
    "Q12 -  In Mu, how do you place a breakpoint on a line of code?\n",
    "\n",
    "ans - To set a breakpoint in IDLE, right-click the line and select Set Breakpoint from the context menu."
   ]
  }
 ],
 "metadata": {
  "kernelspec": {
   "display_name": "Python 3",
   "language": "python",
   "name": "python3"
  },
  "language_info": {
   "codemirror_mode": {
    "name": "ipython",
    "version": 3
   },
   "file_extension": ".py",
   "mimetype": "text/x-python",
   "name": "python",
   "nbconvert_exporter": "python",
   "pygments_lexer": "ipython3",
   "version": "3.8.5"
  }
 },
 "nbformat": 4,
 "nbformat_minor": 4
}
